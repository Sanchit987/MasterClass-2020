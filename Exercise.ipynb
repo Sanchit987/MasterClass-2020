{
  "nbformat": 4,
  "nbformat_minor": 0,
  "metadata": {
    "colab": {
      "name": "Exercise.ipynb",
      "provenance": [],
      "collapsed_sections": [],
      "toc_visible": true
    },
    "kernelspec": {
      "name": "python3",
      "display_name": "Python 3"
    }
  },
  "cells": [
    {
      "cell_type": "code",
      "metadata": {
        "id": "Vq1bdOpX4K_F"
      },
      "source": [
        "import pandas as pd\n",
        "import numpy as np\n",
        "from sklearn import linear_model\n",
        "from word2number import w2n\n",
        "import math"
      ],
      "execution_count": 48,
      "outputs": []
    },
    {
      "cell_type": "code",
      "metadata": {
        "id": "EkQrqjX245WC"
      },
      "source": [
        "d = pd.read_csv(\"hiring.csv\")\n",
        "d"
      ],
      "execution_count": null,
      "outputs": []
    },
    {
      "cell_type": "code",
      "metadata": {
        "id": "cq_MRFo66E2X"
      },
      "source": [
        "d.experience = d.experience.fillna(\"zero\")\n",
        "d"
      ],
      "execution_count": null,
      "outputs": []
    },
    {
      "cell_type": "code",
      "metadata": {
        "id": "FAoP12-U6PDM"
      },
      "source": [
        "\n",
        "median_test_score = math.floor(d['test_score(out of 10)'].mean())\n",
        "median_test_score\n",
        "\n"
      ],
      "execution_count": null,
      "outputs": []
    },
    {
      "cell_type": "code",
      "metadata": {
        "id": "OkCgkl9W66Yb"
      },
      "source": [
        "d.experience = d.experience.apply(w2n.word_to_num)\n",
        "d"
      ],
      "execution_count": null,
      "outputs": []
    },
    {
      "cell_type": "code",
      "metadata": {
        "id": "4dDG19Ya6b7o"
      },
      "source": [
        "d['test_score(out of 10)'] = d['test_score(out of 10)'].fillna(median_test_score)\n",
        "d"
      ],
      "execution_count": null,
      "outputs": []
    },
    {
      "cell_type": "code",
      "metadata": {
        "colab": {
          "base_uri": "https://localhost:8080/"
        },
        "id": "YWY1MLTG76s3",
        "outputId": "0669fdcb-79e7-475c-a62e-f40be2e14de5"
      },
      "source": [
        "reg = linear_model.LinearRegression()\n",
        "reg.fit(d[['experience','test_score(out of 10)','interview_score(out of 10)']],d['salary($)'])"
      ],
      "execution_count": 81,
      "outputs": [
        {
          "output_type": "execute_result",
          "data": {
            "text/plain": [
              "LinearRegression(copy_X=True, fit_intercept=True, n_jobs=None, normalize=False)"
            ]
          },
          "metadata": {
            "tags": []
          },
          "execution_count": 81
        }
      ]
    },
    {
      "cell_type": "code",
      "metadata": {
        "colab": {
          "base_uri": "https://localhost:8080/"
        },
        "id": "jwyJwGJR8Gn6",
        "outputId": "2aba0f01-7229-4759-ad6d-25d6301cf199"
      },
      "source": [
        "reg.predict([[3,8,9]])\n"
      ],
      "execution_count": 83,
      "outputs": [
        {
          "output_type": "execute_result",
          "data": {
            "text/plain": [
              "array([60857.27438577])"
            ]
          },
          "metadata": {
            "tags": []
          },
          "execution_count": 83
        }
      ]
    }
  ]
}