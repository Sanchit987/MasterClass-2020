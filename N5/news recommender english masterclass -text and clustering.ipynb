{
 "cells": [
  {
   "cell_type": "code",
   "execution_count": 1,
   "metadata": {},
   "outputs": [],
   "source": [
    "import pandas as pd\n",
    "from sklearn.feature_extraction.text import TfidfVectorizer,CountVectorizer\n",
    "from sklearn.metrics.pairwise import linear_kernel\n",
    "from sklearn.metrics.pairwise import cosine_similarity\n",
    "import numpy as np"
   ]
  },
  {
   "cell_type": "code",
   "execution_count": 2,
   "metadata": {},
   "outputs": [],
   "source": [
    "data=pd.read_csv(\"news_articles.csv\")"
   ]
  },
  {
   "cell_type": "code",
   "execution_count": 3,
   "metadata": {},
   "outputs": [
    {
     "data": {
      "text/html": [
       "<div>\n",
       "<style scoped>\n",
       "    .dataframe tbody tr th:only-of-type {\n",
       "        vertical-align: middle;\n",
       "    }\n",
       "\n",
       "    .dataframe tbody tr th {\n",
       "        vertical-align: top;\n",
       "    }\n",
       "\n",
       "    .dataframe thead th {\n",
       "        text-align: right;\n",
       "    }\n",
       "</style>\n",
       "<table border=\"1\" class=\"dataframe\">\n",
       "  <thead>\n",
       "    <tr style=\"text-align: right;\">\n",
       "      <th></th>\n",
       "      <th>Article_Id</th>\n",
       "      <th>Title</th>\n",
       "      <th>Author</th>\n",
       "      <th>Date</th>\n",
       "      <th>Content</th>\n",
       "      <th>URL</th>\n",
       "    </tr>\n",
       "  </thead>\n",
       "  <tbody>\n",
       "    <tr>\n",
       "      <th>0</th>\n",
       "      <td>0</td>\n",
       "      <td>14 dead after bus falls into canal in Telangan...</td>\n",
       "      <td>Devyani Sultania</td>\n",
       "      <td>August 22, 2016 12:34 IST</td>\n",
       "      <td>At least 14 people died and 17 others were inj...</td>\n",
       "      <td>http://www.ibtimes.co.in/14-dead-after-bus-fal...</td>\n",
       "    </tr>\n",
       "    <tr>\n",
       "      <th>1</th>\n",
       "      <td>1</td>\n",
       "      <td>Pratibha Tiwari molested on busy road   Saath ...</td>\n",
       "      <td>Suparno Sarkar</td>\n",
       "      <td>August 22, 2016 19:47 IST</td>\n",
       "      <td>TV actress Pratibha Tiwari  who is best known ...</td>\n",
       "      <td>NaN</td>\n",
       "    </tr>\n",
       "    <tr>\n",
       "      <th>2</th>\n",
       "      <td>2</td>\n",
       "      <td>US  South Korea begin joint military drill ami...</td>\n",
       "      <td>Namrata Tripathi</td>\n",
       "      <td>August 22, 2016 18:10 IST</td>\n",
       "      <td>The United States and South Korea began a join...</td>\n",
       "      <td>http://www.ibtimes.co.in/us-south-korea-begin-...</td>\n",
       "    </tr>\n",
       "    <tr>\n",
       "      <th>3</th>\n",
       "      <td>3</td>\n",
       "      <td>Illegal construction in Bengaluru  Will my hou...</td>\n",
       "      <td>S V Krishnamachari</td>\n",
       "      <td>August 22, 2016 17:39 IST</td>\n",
       "      <td>The relentless drive by Bengaluru s  Bangalore...</td>\n",
       "      <td>http://www.ibtimes.co.in/illegal-construction-...</td>\n",
       "    </tr>\n",
       "    <tr>\n",
       "      <th>4</th>\n",
       "      <td>4</td>\n",
       "      <td>Punjab Gau Rakshak Dal chief held for assaulti...</td>\n",
       "      <td>Pranshu Rathee</td>\n",
       "      <td>August 22, 2016 17:34 IST</td>\n",
       "      <td>Punjab Gau Raksha Dal chief Satish Kumar and h...</td>\n",
       "      <td>http://www.ibtimes.co.in/punjab-gau-rakshak-da...</td>\n",
       "    </tr>\n",
       "  </tbody>\n",
       "</table>\n",
       "</div>"
      ],
      "text/plain": [
       "   Article_Id                                              Title  \\\n",
       "0           0  14 dead after bus falls into canal in Telangan...   \n",
       "1           1  Pratibha Tiwari molested on busy road   Saath ...   \n",
       "2           2  US  South Korea begin joint military drill ami...   \n",
       "3           3  Illegal construction in Bengaluru  Will my hou...   \n",
       "4           4  Punjab Gau Rakshak Dal chief held for assaulti...   \n",
       "\n",
       "               Author                       Date  \\\n",
       "0    Devyani Sultania  August 22, 2016 12:34 IST   \n",
       "1      Suparno Sarkar  August 22, 2016 19:47 IST   \n",
       "2    Namrata Tripathi  August 22, 2016 18:10 IST   \n",
       "3  S V Krishnamachari  August 22, 2016 17:39 IST   \n",
       "4      Pranshu Rathee  August 22, 2016 17:34 IST   \n",
       "\n",
       "                                             Content  \\\n",
       "0  At least 14 people died and 17 others were inj...   \n",
       "1  TV actress Pratibha Tiwari  who is best known ...   \n",
       "2  The United States and South Korea began a join...   \n",
       "3  The relentless drive by Bengaluru s  Bangalore...   \n",
       "4  Punjab Gau Raksha Dal chief Satish Kumar and h...   \n",
       "\n",
       "                                                 URL  \n",
       "0  http://www.ibtimes.co.in/14-dead-after-bus-fal...  \n",
       "1                                                NaN  \n",
       "2  http://www.ibtimes.co.in/us-south-korea-begin-...  \n",
       "3  http://www.ibtimes.co.in/illegal-construction-...  \n",
       "4  http://www.ibtimes.co.in/punjab-gau-rakshak-da...  "
      ]
     },
     "execution_count": 3,
     "metadata": {},
     "output_type": "execute_result"
    }
   ],
   "source": [
    "data.head()"
   ]
  },
  {
   "cell_type": "code",
   "execution_count": 4,
   "metadata": {},
   "outputs": [],
   "source": [
    "corpus=data.Content"
   ]
  },
  {
   "cell_type": "code",
   "execution_count": 5,
   "metadata": {},
   "outputs": [],
   "source": [
    "cv = CountVectorizer()"
   ]
  },
  {
   "cell_type": "code",
   "execution_count": 6,
   "metadata": {},
   "outputs": [],
   "source": [
    "corpus_vectorised = cv.fit_transform(corpus)"
   ]
  },
  {
   "cell_type": "code",
   "execution_count": 7,
   "metadata": {},
   "outputs": [],
   "source": [
    "# tfid=TfidfVectorizer()"
   ]
  },
  {
   "cell_type": "code",
   "execution_count": 8,
   "metadata": {},
   "outputs": [],
   "source": [
    "# tfid.fit(corpus)"
   ]
  },
  {
   "cell_type": "code",
   "execution_count": 9,
   "metadata": {},
   "outputs": [],
   "source": [
    "# corpus_vectorised=tfid.fit_transform(corpus)"
   ]
  },
  {
   "cell_type": "code",
   "execution_count": 10,
   "metadata": {},
   "outputs": [
    {
     "data": {
      "text/plain": [
       "<4831x45870 sparse matrix of type '<class 'numpy.int64'>'\n",
       "\twith 702062 stored elements in Compressed Sparse Row format>"
      ]
     },
     "execution_count": 10,
     "metadata": {},
     "output_type": "execute_result"
    }
   ],
   "source": [
    "corpus_vectorised"
   ]
  },
  {
   "cell_type": "code",
   "execution_count": 37,
   "metadata": {},
   "outputs": [],
   "source": [
    "# cv.get_feature_names()[18000:20000]"
   ]
  },
  {
   "cell_type": "code",
   "execution_count": 11,
   "metadata": {},
   "outputs": [],
   "source": [
    "cos=cosine_similarity(corpus_vectorised,corpus_vectorised)\n",
    "# cos.shape\n",
    "cos[cos >.98] = 0"
   ]
  },
  {
   "cell_type": "code",
   "execution_count": 12,
   "metadata": {},
   "outputs": [],
   "source": [
    "sims_sorted=cos.argsort()"
   ]
  },
  {
   "cell_type": "code",
   "execution_count": 16,
   "metadata": {},
   "outputs": [],
   "source": [
    "# sims_sorted[2][-3:]"
   ]
  },
  {
   "cell_type": "code",
   "execution_count": 17,
   "metadata": {},
   "outputs": [],
   "source": [
    "# np.argmax(cos[2])"
   ]
  },
  {
   "cell_type": "code",
   "execution_count": null,
   "metadata": {},
   "outputs": [],
   "source": []
  },
  {
   "cell_type": "code",
   "execution_count": 18,
   "metadata": {},
   "outputs": [
    {
     "data": {
      "text/plain": [
       "'Details about the release date of  Theri  has finally come straight from the horse s mouth  Well  Vijay has announced on Twitter that the video will appear before the audience on 5 February \\nClick Here to see New Photos of  Theri 113 114 115 116'"
      ]
     },
     "execution_count": 18,
     "metadata": {},
     "output_type": "execute_result"
    }
   ],
   "source": [
    "data.Content[54]"
   ]
  },
  {
   "cell_type": "code",
   "execution_count": 19,
   "metadata": {},
   "outputs": [],
   "source": [
    "def top_5_similar(story_num,sims_sorted):\n",
    "    indexes=sims_sorted[story_num][-5:]\n",
    "#     print(indexes)\n",
    "    similar_articles=[data.Content[i] for i in indexes[::-1]]\n",
    "    return similar_articles\n",
    "    "
   ]
  },
  {
   "cell_type": "code",
   "execution_count": 20,
   "metadata": {},
   "outputs": [
    {
     "data": {
      "text/plain": [
       "['The release of  Theri  teaser  which was supposed to hit the Internet on Pongal  has reportedly been postponed  The failure to complete the shooting in time has forced the makers to change their plans \\nReports say that the entire shooting has not been completed yet with one song pending to be shot  The team requires 10 more days to wrap up the song and the film unit cannot work on the teaser until they complete the shooting \\n\\n\\nHence  the teaser release has been pushed  But to make the fans of Vijay happy  the makers might release some posters wishing the audience for Pongal  The buzz says that  Theri  teaser will be released on Republic Day  26 January \\nVijay is returning to a cop s role with  Theri   The actor s character has been penned keeping all the commercial qualities that the audience love to see him in on-screen  He will have mass one-liners warning the baddies  while also delivering emotional dialogues targeting the family audience in the flick \\nAtlee Kumar has put in a lot of hard work on the script to ensure that  Theri  screenplay does not go off track  especially after Vijay s  Puli  failed to live up to people s expectations  the team is taking special care about the final outcome \\nThe movie has Samantha and Amy Jackson in the female lead roles  While it has not been revealed what the former is playing in the flick  the latter will be seen in the role of a police officer  Mahendran will be playing the character of a baddie with Prabhu  Raadhika Sarathkumar  R Parthiepan  KS Ravikumar  Santhanam  Kalyani  Kaali Venkat and a host of other artistes in supporting roles \\n Theri  will hit the screens on Tamil New Year on 14 April  The audio and trailer will be released in February and March respectively  say unconfirmed reports ',\n",
       " 'While the entire Tamil Nadu is in Pongal celebration mood  here is a star who is working on a festival day  like usual  to complete his movie at the earliest  It is none other than Ilayathalapathy Vijay  who skipped all his Pongal plans for his next film  Theri  \\nBuzz is Vijay has not taken a break from the shooting of  Theri  to celebrate Pongal  A song and some minor talkie portions remain to be shot  and the makers want the filming to be completed in the next one week  Understanding the producers  concern  the actor has agreed to work on Pongal \\n\\n\\nIt has to be noted that the delay in the completion of the shooting forced the makers to push the teaser release  The video was supposed to hit the Internet for Pongal  As the entire team was working towards the completion of shooting  the teaser release was pushed back  Now  reports say the teaser will be released on 26 January as a Republic Day treat for Kollywood cine-goers \\nMeanwhile  the makers have released a couple of stills from  Theri  to keep fans of Vijay happy  In the latest snaps  the audience get a glimpse of the khakhi-clad Vijay  He looks different from the cop roles that he has done so far \\nAs per Atlee Kumar  Ilayathalapathy will play an emotional cop and not just a man fighting society s evils  Nonetheless  his role will have all the traits the audience love to see on screen in a police officer \\nProduced by Kalaipuli S Dhanu   Theri  has Samantha and Amy Jackson as the female leads  Mahendran is the antagonist in the Tamil film  which will be dubbed into Telugu  KS Ravikumar  Raadhikaa Sarathkumar  Rajendran  Kaali Venkat  TM Karthik and others are in the cast  It will hit the screens in April \\nNew Photos Released On Saturday  16 January  a few movie photos from  Theri  was released on Twitter  Find the movie stills below ',\n",
       " 'The countdown for the teaser release of Vijay s  Theri  has begun  After much delay  the video is finally set to take the audience by storm on 5 February \\nCelebrities praise  Theri  Teaser  See what they say about the video-clip    Theri  Teaser Celebration\\n\\n\\nThe fans of Vijay are gearing up to welcome the teaser in a grand manner and it would not come as a surprise if they set social media sites on fire with multiple hashtags to trend the teaser related topic of  Theri  \\nAll eyes are on the records too  People are curious to see whether  Theri  teaser creates history by beating the record of Ajith starrer  Vedalam  or not  The video-clip of Thala s film holds the record for being the most  liked  Tamil film video on YouTube \\nThe official teaser of  Vedalam  has got over 1 4 lakh  likes  and close to 46 000  dislikes   In fact  the short clip had garnered 91 000  likes  in just 24 hours  Till date  the teaser has got 62  lakh hits on YouTube \\nThe  Vedalam  teaser had broken the record of Vijay s  Puli 129 130 131',\n",
       " 'The first teaser of Vijay s  Theri  was released at 12 am on 5 February and the video managed to win the hearts of the audience and celebrities \\nIt is a 50-second teaser  which has appeared before the audience after much delay  The clip comes as an introduction to the roles that Vijay plays in  Theri   Ilayathalapathy will be seen in multiple avatars in the flick and he does a one-man show in the clip \\n\\n\\nVjay makes a stylish entry  mouths some interesting one-liners and leaves a good impact on the viewers  The interesting part of the story is that his characters have the traits of his popular roles from recent movies like  Thuppakki    Kaththi  and  Jilla   However  neither Samantha nor Amy Jackson  who are the female leads  are part of the video \\n Theri  teaser to beat  Vedalam  record to become most liked Tamil video   See Photos of Fans  Celebration\\nThe teaser of  Theri  does not reveal anything about the storyline  but only shows the nature of characters played by Vijay  The clip is loaded with action and comedy sequences too \\nOriginally  the teaser was planned to be released for Pongal  Later  it was pushed to Republic Day  On both the occasions  the makers failed to release the video as the shooting could not be wrapped up on time  causing delay in the teaser release \\nMeanwhile  the fans of Vijay have grandly welcomed the teaser of  Theri   Topics related to the movie are trending on Twitter  using multiple hashtags with  THERITeaserKicksoffTonight being the main one \\n Theri  is an action-packed commercial entertainer in which Vijay plays the role of a cop  The special attraction of the film is that Ilayathalapathy s daughter Divya is making her acting debut in the flick  Directed by Atlee Kumar of  Raja Rani  fame   Theri  is produced by Kalaipuli D Dhanu \\nThe video-clip has been appreciated by celebrities  Many have taken to Twitter to praise the teaser  Here  we bring you selected-few comments made by them \\nJ Anbazhagan tweeted  A mind blowing teaser from  Theri movie  watta stylish performance from  Ilayathalapathy  Vijay  A best example of how to give an extraordinary performance -  Vijay  Theri will create a history in BoxOffice for  Ilayathalapathy  This s hw a Teaser shud be made up of for fans   audience using a Mass Hero Vijay  Good work by  Atlee_dir   team Credits has to b given also to  gvprakash for making  TheriTeaser a most powerful one  I believe Vijay ll rock d floors in  GVP music   GV50\\nArya posted  Twinkle twinkle SUPERSTAR  theri rocking teaser    Really proud of u my Bro  Atlee_dir u r going places enjoy\\nThaman Shivakumar wrote   theri it s just Super Class massa sollanumna it s just  kickasss\\nActor Samuthirakani tweeted  THERI TEASER pakka mass entertainer  Action packed loved it  Wonderful cuts good BGM added spice to the teaser  All the best \\nKhushbusundar wrote  Twinkle Twinkle little star how I wonder what u are   THERI super mass   and  actorvijay u are ageing in reverse   u look super',\n",
       " 'Here is some good news for Vijay s fans  The audio and the teaser of the forthcoming Tamil film will be out soon \\nThe news has come straight from the horse s mouth with music director GV Prakash Kumar announcing it on Twitter  The musician has said that he has completed scoring all the songs and is currently busy composing the theme music for Vijay starrer  Theri  \\n\\n\\nIn the same tweet  GV Prakash Kumar wrote that the audio and teaser will be released soon  However  he has not given any hint about the exact release date  But  sources say that the teaser might be released for Pongal  It is believed that the album has five songs and it will be a mix of mass and class numbers \\nThere is a huge responsibility on the music director to deliver a successful album as the success of the songs play a major role in generating good hype around the flick  Adding to that   Theri  is 50th movie of GV Prakash Kumar as a music director  Hence  people have pinned high hopes on the album \\nCurrently  the talkie portion has been completed and the songs are yet to be shot on the lead stars  The shooting of songs will reportedly be completed by the second week of February and the film will be ready by the end of March  The Tamil flick will be ready for release in April \\n Theri  is an action-packed commercial film  in which Ilayathalapathy plays the role of a cop  After  Kaththi 1372']"
      ]
     },
     "execution_count": 20,
     "metadata": {},
     "output_type": "execute_result"
    }
   ],
   "source": [
    "top_5_similar(54,sims_sorted)"
   ]
  },
  {
   "cell_type": "code",
   "execution_count": 58,
   "metadata": {},
   "outputs": [],
   "source": [
    "search=cv.transform([\"china\"])"
   ]
  },
  {
   "cell_type": "code",
   "execution_count": 59,
   "metadata": {},
   "outputs": [],
   "source": [
    "search_sim=[i[0] for i in np.argwhere(cosine_similarity(corpus_vectorised,search)>0.2)]"
   ]
  },
  {
   "cell_type": "code",
   "execution_count": 60,
   "metadata": {},
   "outputs": [],
   "source": [
    "# np.argmax(cosine_similarity(tfid_mat,search))"
   ]
  },
  {
   "cell_type": "code",
   "execution_count": 61,
   "metadata": {},
   "outputs": [
    {
     "data": {
      "text/plain": [
       "['Star shuttler Saina Nehwal  who has been nominated for the BWF  Badminton World Federation  Woman of the Player Award  is the only other Indian apart from Kidambi Srikanth  to represent the nation in the year-ending  1 million BWF World Super Series Finals  scheduled to take place at Hamdan Sports Complex in Dubai from 9 to 13 December \\nSaina  who is the current world number 2 in the women s singles rankings  will be competing for the prestigious award from BWF  alongside world number one Carolina Marin  Spain   as well as Zhao Yunlei and Bao Yixin of China \\n\\n\\nThe winners of the BWF Players of the Year Awards is set to be announced at the Players  Reception and Gala Dinner two days prior to the start of the prestigious competition at the Al Badia Golf Club on 7 December \\nSaina  25  reached the title round of the BWF Super Series Finals in 2011  and she hopes to have a repeat show this year  going on to lift the trophy  Saina reached the finals of the All England Open and the China Open this year  and also clinched the Indian Open title  to finish fifth in the Superseries women s singles rankings \\nSrikanth  meanwhile  got lucky at the year-end final of the World Super Series  despite finishing ninth in the men s Superseries singles rankings  The place originally belonged to China s Tian Houwei  but since there are already two members qualified from the member association  Tian had to give up his spot \\nFor Indian duo Jwala Gutta and Ahwini Ponnappa  it was sheer hard luck as they missed qualifying for the women s doubles in the competition after bagging the 10th spot in the Superseries women s doubles rankings \\nThe full list of players confirmed for the BWF World Super Series 2015 \\nMen s Singles qualifiers\\n1  Chen Long  China   defending champion  2  Kento Momota  Japan  3  Jan O Jorgensen  Denmark  4  Viktor Axelsen  Denmark  5  Lin Dan  China  6  Chou Tien Chen  Chinese Taipei  7  Hu Yun  Hong Kong  8  Kidambi Srikanth  India \\nWomen s Singles qualifiers\\n1  Carolina Marin  Spain  2  Wang Shixian  China  3  Wang Yihan  China  4  Nozomi Okuhara  Japan  5  Saina Nehwal  India  6  Tai Tzu Ying  Chinese Taipei   defending champion  7  Ratchanok Intanon  Thailand  8  Sung Ji Hyun  Korea \\nMen s Doubles qualifiers\\n1  Lee Yong Dae Yoo Yeon Seong  Korea   defending champions  2  Mathias Boe Carsten Mogensen  Denmark  3  Hiroyuki Endo Kenichi Hayakawa  Japan  4  Chai Biao Hong Wei  China  5  Mohammad Ahsan Hendra Setiawan  Indonesia  6  Zhang Nan Fu Haifeng  China  7  Kim Gi Jung Kim Sa Rang  Korea  8  Mads Conrad Petersen Mads Pieler Kolding  Denmark \\nWomen s Doubles qualifiers\\n1  Luo Ying Luo Yu  China  2  Christinna Pedersen Kamilla Rytter Juhl  Denmark  3  Misaki Matsutomo Ayaka Takahashi  Japan   defending champions  4  Nitya Krishinda Maheswari Greysia Polii  Indonesia  5  Eefje Muskens Selena Piek  Netherlands  6  Chae Yoo Jung Kim So Yeong  Korea  7  Reika Kakiiwa Miyuki Maeda  Japan  8  Tian Qing Zhao Yunlei  China \\nMixed Doubles qualifiers\\n1  Zhang Nan Zhao Yunlei  China   defending champions  2  Liu Cheng Bao Yixin  China  3  Ko Sung Hyun Kim Ha Na  Korea  4  Tontowi Ahmad Liliyana Natsir  Indonesia  5  Joachim Fischer Nielsen Christinna Pedersen  Denmark  6  Chris Adcock Gabrielle Adcock  England  7  Praveen Jordan Debby Susanto  Indonesia  8  Lee Chun Hei Chau Hoi Wah  Hong Kong ',\n",
       " 'China is likely to face international ire on Friday  July 15  when world leaders meet at the Asia-Europe Meeting in  Ulaanbaatar  Mongolia  The dragon s state media is breathing smoke in reaction to the U N  arbitration that has ruled against China s claims in South China Sea dispute against the Philippines and this is likely to be discussed at the summit \\nWhile smoke surrounds China daily s attempt at spreading disinformation regarding supporters of China s claims in the dispute  fiery words wore uttered on Thursday by GlobalTimes that insulted the United States and Japan as  paper tigers  and  eunuchs  and warned the military to prepare for  counter attack  if American warships holds military exercises in the disputed region \\n\\n\\nPaper tigers and eunuchs\\nState-run Global Times  known for its nationalistic rhetoric  took swipes at the U S  and Japan in an editorial titled  Blustering US a paper tiger in S China Sea   The following are excerpts from the editorial \\n\\nSince when does India support China s claims on South China Sea Dispute \\nEven though the Chinese state run media China Daily claims that barring North and South America and Australia the whole world supports China s claims on the South China Sea  only a handful of countries  including Afghanistan  and most recently Pakistan who came out in support on July 12  are backing China s stance according to Asia Maritime Transparency Initiative  AMTI  from the Centre for Strategic and International Studies \\n To date  we have identified 50 countries that appear to be included in China s list of supporters  Of those  seven have publicly confirmed their support  three have denied Beijing s claim of support  and 40 have remained publicly silent or have issued statements that are considerably vaguer than indicated by China   In contrast  10 countries plus the European Union have said that the arbitral award will be legally binding and have called on both China and the Philippines to respect it   an AMTI report said \\nOn the contrary  India s external affairs ministry released a statement backing the U N  verdict and the Phillippines  Here are excerpts from the statement ',\n",
       " 'A United Nations International Tribunal Panel has ruled against China saying that there was no evidence to suggest that China had historically exercised exclusive control over South China Sea waters or resources \\nWhile delivering the judgment  the world s oldest international arbitration tribunal  the Permanent Court of Arbitration  PCA  located in the Hague  Netherlands said China had violated Philippines  sovereign rights and caused  severe harm to the coral reef environment  by building artificial islands \\n\\n\\nThe tribunal also  found that China had violated the Philippines  sovereign rights in its exclusive economic zone by  a  interfering with Philippine fishing and petroleum exploration   b  constructing artificial islands and  c  failing to prevent Chinese fishermen from fishing in the zone \\nThe tribunal also held that fishermen from the Philippines  like those from China  had traditional fishing rights at Scarborough Shoal and that China had interfered with these rights in restricting access  The tribunal further held that Chinese law enforcement vessels had unlawfully created a serious risk of collision  when they physically obstructed Philippine vessels  according to a report by the Guardian \\nEven though the ruling is binding  it is non-enforceable by the Permanent Court of Arbitration which based its judgment on the United Nations Convention on the Law of the Sea  UNCLOS   that both countries have signed \\nChina has reportedly called the decision  ill-founded  and says it will not be abide by the ruling  It claims almost all of the South China Sea  including reefs and islands that are also claimed by other countries \\nChinese state news agency Xinhua said that  as the panel has no jurisdiction  its decision is naturally null and void   China s defence ministry said its troops would  unswervingly safeguard state sovereignty  security  maritime rights and interests   according to state broadcaster CCTV \\nThe dispute over islands in the South China Sea  which has caused tensions in South East Asia was brought to the UN for arbitration almost three years ago after Philippines had challenged China s claims over the strategic use of the disputed territories  It had asked the court to find out if Beijing s claims to most of the territories in the region were valid or not \\nThe judgment comes against the backdrop of military brushes between Asia s largest economy and the Philippines  Vietnam  Malaysia  Brunei and Taiwan  who are believed to hold untapped oil and gas reserves  The sea s shipping lanes connect East Asia with Europe and the Middle East  Over 4 5 trillion euros in ship-trade passes through it every year ',\n",
       " 'The U S  on Saturday warned China over constructing in an islet claimed by Philippines in the South China Sea  The move would force action by the U S  and other countries if China were to go through with the construction  U S  Defence Secretary Ashton Carter said at the Asia Security Summit in Singapore on Saturday \\nCarter also said that China runs the risk of creating a  Great Wall of self-isolation  because of its aggressive takeover of the South China Sea  an area that facilitates maritime trade worth  5 trillion \\n\\n\\n I hope that this development doesn t occur because it will result in actions being taken both by the United States  and actions being taken by others in the region that will have the effect of not only increasing tensions but isolating China   Carter was quoted as saying by Agence France Presse about Scarborough Shoal  the islet in question \\nThe shoal  Manila says  belongs inside its exclusive economic zone  But  China reportedly is constructing an outpost there \\n America wants to expand military-to-military agreements with China to focus not only on risk reduction  but also on practical cooperation   Carter said \\nThe event was also attended by top Chinese military officials \\nU S   move is believed to be part of its Asia  rebalance  policy that the U S  believes would help the western country s long-term economic interests \\nThe Philippines  Brunei  Malaysia and Vietnam have also claimed land in the Spratly Islands in South China Sea  and the U S  is an ally to them  The U S  had conducted freedom of navigation exercises in the region  which China urged them to stop  China also told the U S  to not decide its policy on the South China Sea issue based on its allies interests ',\n",
       " 'China s navy will send five ships to join a major United States-hosted naval drill this summer  even as tension mounts between the world s two largest economies over the South China Sea \\nThe Rim of the Pacific exercise  or RIMPAC  billed as the world s largest international maritime exercise  is held every two years in Hawaii in June and July \\n\\n\\nCritics of the Obama administration  including U S  Senator John McCain  have said the United States should bar China from the drills to show U S  disapproval of its military actions \\nThe United States and its allies have expressed growing concern over the Asian giant s military buildup  as well as its increasingly assertive posture in the South China Sea \\nChina s Defence Ministry  in a short statement late on Thursday  said its flotilla  including two warships and a hospital ship  would participate in live fire  anti-piracy  search and rescue and other drills \\nDespite China s anger at U S  military patrols close to islands China controls in the South China Sea  and U S  criticism of China s military build-up  both countries have been trying to improve defence ties and ensure regular communications \\nPast participants in RIMPAC have included nations  such as Russia  that are not treaty allies of the United States \\nChina took part in the RIMPAC exercises in 2014 with more than 20 countries  but defence officials have said its participation was limited to areas such as humanitarian relief and search and rescue operations ',\n",
       " 'China on Thursday called out the U S  for taking sides in the South China Sea conflict despite saying it would not  A senior Chinese diplomat said the U S  should not decide policy related to the disputed area based on its allies  such as the Philippines  Vietnam  Malaysia  Taiwan and Brunei  who have also laid claim to the region \\nThe statement comes days before the 15th Asia Security Summit  which is due on Friday in Singapore  China is of the view that it has the right to protect its sovereignty and maritime rights in the South China Sea  an area from where cargo worth  5 trillion passes every year \\n\\n\\n In fact the United States is not a claimant in the South China Sea dispute  and it has said it takes no position on territorial disputes   So we hope the U S  can stick to its promises and not choose sides  but can set its position based on the rights and wrongs of the case rather than whether somebody is an ally   Chinese Vice-Foreign Minister Zheng Zeguang was quoted as saying by Reuters \\n I think if they can do this  and if they can stop provocative acts targeted at China s sovereignty and security interests  then the U S  can play a constructive role in maintaining peace and stability in the South China Sea and promote a lowering of the temperature on this issue   he added \\nZeguang also said the South China Sea dispute would be discussed with U S  State Secretary John Kerry during the three-day summit  The issue was also taken up by world leaders during the G7 Summit in Japan last month  The dispute over territorial claims has loomed large ever since the U S  started conducting patrols in 2015 \\nThe U S  has defended its patrols close to the islands claimed by China as protection of  freedom of navigation  exercises \\nChina had urged the U S  to put an end to its surveillance after western nation called Chinese interception of one of its aircrafts as  unsafe    http   www ibtimes co in china-tells-us-not-take-sides-south-china-sea-dispute-681091\\n4000  Future of Asia Conference  Singapore cautions against  might is right  approach in South China Sea 11332 11333 11334 11335 11336 11337',\n",
       " 'China is expected to continue devaluing its currency in the coming months  a move that raised concerns about a possible global currency war and recovery of global economy \\n Now  if you ask me   will China further make market move for weakening its currency  my answer would be - yes  China could do that going forward based on its exchange rate   said Ian Stannard  executive director and head of European currency strategy at Morgan Stanley \\n\\n\\nChinese authorities unexpectedly devalued the country s exchange rate on Tuesday so as to revive the slowing economic activity in the country  China allowed the currency to fall further on Wednesday \\n If you look at economic data points in China  it has weakened significantly in some cases  hence you can make a point that the currency was overvalued   he told The Economic Times \\nA devaluation of yuan will help China boost its slumping exports as a cheaper yuan will make its exports more competitive in the overseas markets  China s exports fell 8 3  in July and a deflationary trend in producer prices persisted for a fourth straight year \\nGrowth in the world s second largest economy is estimated to touch a 25-year low  although its official target of 7  set for this year has been met \\nHowever  the International Monetary Fund  IMF  welcomed the devaluation of yuan by China \\n Beijing should aim to achieve an effectively floating exchange rate within two to three years   IMF told Reuters \\nThe Indian rupee slid to a two-year low  taking a cue from depreciation in currencies of other emerging markets  following China s devaluation move  China s exchange rate reforms also weighed on the domestic stock markets and commodities \\nEasing concerns over further depreciation in the domestic currency  Ian said  rupee is likely to remain stable relative to other currencies despite volatility in global currency markets  12993']"
      ]
     },
     "execution_count": 61,
     "metadata": {},
     "output_type": "execute_result"
    }
   ],
   "source": [
    "[data.Content[i] for i in search_sim]"
   ]
  },
  {
   "cell_type": "code",
   "execution_count": null,
   "metadata": {},
   "outputs": [],
   "source": []
  },
  {
   "cell_type": "code",
   "execution_count": null,
   "metadata": {},
   "outputs": [],
   "source": []
  },
  {
   "cell_type": "code",
   "execution_count": 25,
   "metadata": {},
   "outputs": [],
   "source": [
    " ############# clustering news articles #################3"
   ]
  },
  {
   "cell_type": "code",
   "execution_count": 26,
   "metadata": {},
   "outputs": [],
   "source": [
    "from sklearn.cluster import  KMeans\n"
   ]
  },
  {
   "cell_type": "code",
   "execution_count": 46,
   "metadata": {},
   "outputs": [],
   "source": [
    "kmeans=KMeans(n_clusters=5)"
   ]
  },
  {
   "cell_type": "code",
   "execution_count": 47,
   "metadata": {},
   "outputs": [
    {
     "data": {
      "text/plain": [
       "(4831, 45870)"
      ]
     },
     "execution_count": 47,
     "metadata": {},
     "output_type": "execute_result"
    }
   ],
   "source": [
    "corpus_vectorised.todense().shape"
   ]
  },
  {
   "cell_type": "code",
   "execution_count": 48,
   "metadata": {},
   "outputs": [
    {
     "data": {
      "text/plain": [
       "KMeans(algorithm='auto', copy_x=True, init='k-means++', max_iter=300,\n",
       "       n_clusters=5, n_init=10, n_jobs=None, precompute_distances='auto',\n",
       "       random_state=None, tol=0.0001, verbose=0)"
      ]
     },
     "execution_count": 48,
     "metadata": {},
     "output_type": "execute_result"
    }
   ],
   "source": [
    "kmeans.fit(corpus_vectorised.todense()[:300])"
   ]
  },
  {
   "cell_type": "code",
   "execution_count": null,
   "metadata": {},
   "outputs": [],
   "source": []
  },
  {
   "cell_type": "code",
   "execution_count": 49,
   "metadata": {},
   "outputs": [
    {
     "name": "stdout",
     "output_type": "stream",
     "text": [
      "\n",
      "\n",
      "**********  cluster 0 *************\n",
      "17    A British-era bridge in Maharashtra collapsed ...\n",
      "27    Anton Yelchin  who was best known for portrayi...\n",
      "33    At least 14 people were killed and more than 3...\n",
      "34    At least five people were killed and nine inju...\n",
      "37    Ramesh Subramaniam directorial  Vil Ambu  hit ...\n",
      "42    Atlee Kumar is apparently being rewarded for h...\n",
      "45    There were reports that the  Premam  actress M...\n",
      "50    Five years after winning National Award for  A...\n",
      "51    Tamil actor Dhanush  who made his Bollywood de...\n",
      "52    Sivakarthikeyan starrer  Rajini Murugan  has b...\n",
      "Name: Content, dtype: object\n",
      "\n",
      "\n",
      "**********  cluster 1 *************\n",
      "10    At least eight schoolchildren were killed when...\n",
      "11    UPDATE  2 35 p m  IST   The death toll has ris...\n",
      "15    4 30 p m  IST   Maharashtra Chief Minister Dev...\n",
      "18    At least four people were killed and one injur...\n",
      "23    A BMW car driven by a Rajasthan MLA s son  sus...\n",
      "26    A forensic report by Central Forensic Science ...\n",
      "32    The teaser of Vijay starrer  Theri  has taken ...\n",
      "53    The first teaser of Vijay s  Theri  was releas...\n",
      "60    Vijay s  Kaththi  continues to be in the news ...\n",
      "68    Power Star Pawan Kalyan  who is disappointed o...\n",
      "Name: Content, dtype: object\n",
      "\n",
      "\n",
      "**********  cluster 2 *************\n",
      "1     TV actress Pratibha Tiwari  who is best known ...\n",
      "2     The United States and South Korea began a join...\n",
      "4     Punjab Gau Raksha Dal chief Satish Kumar and h...\n",
      "5     Philippines police on Monday said that the num...\n",
      "8     A school bus in the town of Bishnah in Jammu s...\n",
      "9     A school bus carrying around 50 children fell ...\n",
      "13    Twelve people died and at least eight were inj...\n",
      "16    At least four more bodies were recovered from ...\n",
      "19    At least seven children died on Monday after a...\n",
      "24    A fire broke out at Mantralaya  the Maharashtr...\n",
      "Name: Content, dtype: object\n",
      "\n",
      "\n",
      "**********  cluster 3 *************\n",
      "30     Siddharth Narayanan-starrer  Jil Jung Juk   al...\n",
      "64     Madhavan starrer  Irudhi Suttru  is holding we...\n",
      "65     Sundar C directorial  Aranmanai 2  and Madhava...\n",
      "95     Junior NTR s two-week-old movie  Nannaku Prema...\n",
      "97     Nagarjuna s  Soggade Chinni Nayana   SCN  has ...\n",
      "152    Junior NTR s  Nannaku Prematho  has done decen...\n",
      "154    Junior NTR s  Nannaku Prematho  has witnessed ...\n",
      "159    Junior NTR s  Nannaku Prematho  and Nagarjuna ...\n",
      "177    Sundar C directorial  Aranmanai 2  and Madhava...\n",
      "265     Soggade Chinni Nayana   SCN  has made superb ...\n",
      "Name: Content, dtype: object\n",
      "\n",
      "\n",
      "**********  cluster 4 *************\n",
      "0     At least 14 people died and 17 others were inj...\n",
      "3     The relentless drive by Bengaluru s  Bangalore...\n",
      "6     Infosys shares could fall sharply on Tuesday w...\n",
      "7     Prime Minister Narendra Modi has expressed dee...\n",
      "12    Two students died while over 40 were electrocu...\n",
      "14    The death toll in the bridge collapse near Mah...\n",
      "20    In a tragic incident on Sunday  as many as eig...\n",
      "21    Five people died and 10 were injured after a t...\n",
      "22    At least 26 people  mostly tourists from China...\n",
      "25    One person died and five others were injured a...\n",
      "Name: Content, dtype: object\n"
     ]
    }
   ],
   "source": [
    "for i in range(5):\n",
    "    print('\\n\\n**********  cluster {} *************'.format(i))\n",
    "    idxs = list(np.where(kmeans.labels_== i)[0])\n",
    "    print(corpus[idxs][:10])"
   ]
  },
  {
   "cell_type": "code",
   "execution_count": null,
   "metadata": {},
   "outputs": [],
   "source": []
  },
  {
   "cell_type": "code",
   "execution_count": null,
   "metadata": {},
   "outputs": [],
   "source": []
  },
  {
   "cell_type": "code",
   "execution_count": null,
   "metadata": {},
   "outputs": [],
   "source": []
  },
  {
   "cell_type": "code",
   "execution_count": null,
   "metadata": {},
   "outputs": [],
   "source": []
  },
  {
   "cell_type": "code",
   "execution_count": null,
   "metadata": {},
   "outputs": [],
   "source": []
  },
  {
   "cell_type": "code",
   "execution_count": null,
   "metadata": {},
   "outputs": [],
   "source": []
  }
 ],
 "metadata": {
  "kernelspec": {
   "display_name": "Python 3",
   "language": "python",
   "name": "python3"
  },
  "language_info": {
   "codemirror_mode": {
    "name": "ipython",
    "version": 3
   },
   "file_extension": ".py",
   "mimetype": "text/x-python",
   "name": "python",
   "nbconvert_exporter": "python",
   "pygments_lexer": "ipython3",
   "version": "3.7.3"
  }
 },
 "nbformat": 4,
 "nbformat_minor": 2
}
